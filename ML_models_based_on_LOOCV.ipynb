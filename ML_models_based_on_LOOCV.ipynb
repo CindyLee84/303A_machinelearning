{
 "cells": [
  {
   "cell_type": "code",
   "execution_count": 70,
   "id": "58a689c6",
   "metadata": {},
   "outputs": [],
   "source": [
    "import os\n",
    "import pandas as pd\n",
    "import numpy as np\n",
    "import seaborn as sns\n",
    "import matplotlib.pyplot as plt\n",
    "\n",
    "from sklearn.preprocessing import MinMaxScaler\n",
    "from sklearn.model_selection import LeaveOneOut\n",
    "\n",
    "from sklearn.linear_model import LogisticRegression\n",
    "from sklearn.metrics import accuracy_score\n",
    "from sklearn import metrics # for the check the error and accuracy\n",
    "from sklearn.metrics import confusion_matrix, classification_report,roc_curve,roc_auc_score\n",
    "\n",
    "from sklearn import svm # for Support Vector Machine\n",
    "from sklearn.naive_bayes import GaussianNB # for naive bayes classifier\n",
    "from sklearn.neighbors import KNeighborsClassifier # for KNN classifier \n",
    "from sklearn.ensemble import RandomForestClassifier # for random forest classifier\n",
    "from sklearn.tree import DecisionTreeClassifier # for decision tree classifier \n"
   ]
  },
  {
   "cell_type": "code",
   "execution_count": 35,
   "id": "efb83a75",
   "metadata": {},
   "outputs": [
    {
     "data": {
      "text/html": [
       "<div>\n",
       "<style scoped>\n",
       "    .dataframe tbody tr th:only-of-type {\n",
       "        vertical-align: middle;\n",
       "    }\n",
       "\n",
       "    .dataframe tbody tr th {\n",
       "        vertical-align: top;\n",
       "    }\n",
       "\n",
       "    .dataframe thead th {\n",
       "        text-align: right;\n",
       "    }\n",
       "</style>\n",
       "<table border=\"1\" class=\"dataframe\">\n",
       "  <thead>\n",
       "    <tr style=\"text-align: right;\">\n",
       "      <th></th>\n",
       "      <th>sample_id</th>\n",
       "      <th>cl_thcknss</th>\n",
       "      <th>size_cell_un</th>\n",
       "      <th>shape_cell_un</th>\n",
       "      <th>marg_adhesion</th>\n",
       "      <th>size_cell_single</th>\n",
       "      <th>bare_nucl</th>\n",
       "      <th>bl_chrmatn</th>\n",
       "      <th>nrml_nucleo</th>\n",
       "      <th>mitoses</th>\n",
       "      <th>class</th>\n",
       "    </tr>\n",
       "  </thead>\n",
       "  <tbody>\n",
       "    <tr>\n",
       "      <th>0</th>\n",
       "      <td>1000025</td>\n",
       "      <td>5.0</td>\n",
       "      <td>1.0</td>\n",
       "      <td>1.0</td>\n",
       "      <td>1.0</td>\n",
       "      <td>2.0</td>\n",
       "      <td>1.0</td>\n",
       "      <td>3.0</td>\n",
       "      <td>1.0</td>\n",
       "      <td>1.0</td>\n",
       "      <td>2</td>\n",
       "    </tr>\n",
       "    <tr>\n",
       "      <th>1</th>\n",
       "      <td>1002945</td>\n",
       "      <td>5.0</td>\n",
       "      <td>4.0</td>\n",
       "      <td>4.0</td>\n",
       "      <td>5.0</td>\n",
       "      <td>7.0</td>\n",
       "      <td>10.0</td>\n",
       "      <td>3.0</td>\n",
       "      <td>2.0</td>\n",
       "      <td>1.0</td>\n",
       "      <td>2</td>\n",
       "    </tr>\n",
       "    <tr>\n",
       "      <th>2</th>\n",
       "      <td>1015425</td>\n",
       "      <td>3.0</td>\n",
       "      <td>1.0</td>\n",
       "      <td>1.0</td>\n",
       "      <td>1.0</td>\n",
       "      <td>2.0</td>\n",
       "      <td>2.0</td>\n",
       "      <td>3.0</td>\n",
       "      <td>1.0</td>\n",
       "      <td>1.0</td>\n",
       "      <td>2</td>\n",
       "    </tr>\n",
       "    <tr>\n",
       "      <th>3</th>\n",
       "      <td>1016277</td>\n",
       "      <td>6.0</td>\n",
       "      <td>8.0</td>\n",
       "      <td>8.0</td>\n",
       "      <td>1.0</td>\n",
       "      <td>3.0</td>\n",
       "      <td>4.0</td>\n",
       "      <td>3.0</td>\n",
       "      <td>7.0</td>\n",
       "      <td>1.0</td>\n",
       "      <td>2</td>\n",
       "    </tr>\n",
       "    <tr>\n",
       "      <th>4</th>\n",
       "      <td>1017023</td>\n",
       "      <td>4.0</td>\n",
       "      <td>1.0</td>\n",
       "      <td>1.0</td>\n",
       "      <td>3.0</td>\n",
       "      <td>2.0</td>\n",
       "      <td>1.0</td>\n",
       "      <td>3.0</td>\n",
       "      <td>1.0</td>\n",
       "      <td>1.0</td>\n",
       "      <td>2</td>\n",
       "    </tr>\n",
       "    <tr>\n",
       "      <th>...</th>\n",
       "      <td>...</td>\n",
       "      <td>...</td>\n",
       "      <td>...</td>\n",
       "      <td>...</td>\n",
       "      <td>...</td>\n",
       "      <td>...</td>\n",
       "      <td>...</td>\n",
       "      <td>...</td>\n",
       "      <td>...</td>\n",
       "      <td>...</td>\n",
       "      <td>...</td>\n",
       "    </tr>\n",
       "    <tr>\n",
       "      <th>694</th>\n",
       "      <td>776715</td>\n",
       "      <td>3.0</td>\n",
       "      <td>1.0</td>\n",
       "      <td>1.0</td>\n",
       "      <td>1.0</td>\n",
       "      <td>3.0</td>\n",
       "      <td>2.0</td>\n",
       "      <td>1.0</td>\n",
       "      <td>1.0</td>\n",
       "      <td>1.0</td>\n",
       "      <td>2</td>\n",
       "    </tr>\n",
       "    <tr>\n",
       "      <th>695</th>\n",
       "      <td>841769</td>\n",
       "      <td>2.0</td>\n",
       "      <td>1.0</td>\n",
       "      <td>1.0</td>\n",
       "      <td>1.0</td>\n",
       "      <td>2.0</td>\n",
       "      <td>1.0</td>\n",
       "      <td>1.0</td>\n",
       "      <td>1.0</td>\n",
       "      <td>1.0</td>\n",
       "      <td>2</td>\n",
       "    </tr>\n",
       "    <tr>\n",
       "      <th>696</th>\n",
       "      <td>888820</td>\n",
       "      <td>5.0</td>\n",
       "      <td>10.0</td>\n",
       "      <td>10.0</td>\n",
       "      <td>3.0</td>\n",
       "      <td>7.0</td>\n",
       "      <td>3.0</td>\n",
       "      <td>8.0</td>\n",
       "      <td>10.0</td>\n",
       "      <td>2.0</td>\n",
       "      <td>4</td>\n",
       "    </tr>\n",
       "    <tr>\n",
       "      <th>697</th>\n",
       "      <td>897471</td>\n",
       "      <td>4.0</td>\n",
       "      <td>8.0</td>\n",
       "      <td>6.0</td>\n",
       "      <td>4.0</td>\n",
       "      <td>3.0</td>\n",
       "      <td>4.0</td>\n",
       "      <td>10.0</td>\n",
       "      <td>6.0</td>\n",
       "      <td>1.0</td>\n",
       "      <td>4</td>\n",
       "    </tr>\n",
       "    <tr>\n",
       "      <th>698</th>\n",
       "      <td>897471</td>\n",
       "      <td>4.0</td>\n",
       "      <td>8.0</td>\n",
       "      <td>8.0</td>\n",
       "      <td>5.0</td>\n",
       "      <td>4.0</td>\n",
       "      <td>5.0</td>\n",
       "      <td>10.0</td>\n",
       "      <td>4.0</td>\n",
       "      <td>1.0</td>\n",
       "      <td>4</td>\n",
       "    </tr>\n",
       "  </tbody>\n",
       "</table>\n",
       "<p>699 rows × 11 columns</p>\n",
       "</div>"
      ],
      "text/plain": [
       "     sample_id  cl_thcknss  size_cell_un  shape_cell_un  marg_adhesion  \\\n",
       "0      1000025         5.0           1.0            1.0            1.0   \n",
       "1      1002945         5.0           4.0            4.0            5.0   \n",
       "2      1015425         3.0           1.0            1.0            1.0   \n",
       "3      1016277         6.0           8.0            8.0            1.0   \n",
       "4      1017023         4.0           1.0            1.0            3.0   \n",
       "..         ...         ...           ...            ...            ...   \n",
       "694     776715         3.0           1.0            1.0            1.0   \n",
       "695     841769         2.0           1.0            1.0            1.0   \n",
       "696     888820         5.0          10.0           10.0            3.0   \n",
       "697     897471         4.0           8.0            6.0            4.0   \n",
       "698     897471         4.0           8.0            8.0            5.0   \n",
       "\n",
       "     size_cell_single  bare_nucl  bl_chrmatn  nrml_nucleo  mitoses  class  \n",
       "0                 2.0        1.0         3.0          1.0      1.0      2  \n",
       "1                 7.0       10.0         3.0          2.0      1.0      2  \n",
       "2                 2.0        2.0         3.0          1.0      1.0      2  \n",
       "3                 3.0        4.0         3.0          7.0      1.0      2  \n",
       "4                 2.0        1.0         3.0          1.0      1.0      2  \n",
       "..                ...        ...         ...          ...      ...    ...  \n",
       "694               3.0        2.0         1.0          1.0      1.0      2  \n",
       "695               2.0        1.0         1.0          1.0      1.0      2  \n",
       "696               7.0        3.0         8.0         10.0      2.0      4  \n",
       "697               3.0        4.0        10.0          6.0      1.0      4  \n",
       "698               4.0        5.0        10.0          4.0      1.0      4  \n",
       "\n",
       "[699 rows x 11 columns]"
      ]
     },
     "execution_count": 35,
     "metadata": {},
     "output_type": "execute_result"
    }
   ],
   "source": [
    "# Read imputed datasets (MICE)\n",
    "df = pd.read_csv(\"Dataset/processed/breast-cancer-wisconsin-imputed.csv\")\n",
    "df"
   ]
  },
  {
   "cell_type": "code",
   "execution_count": 36,
   "id": "8345e433",
   "metadata": {},
   "outputs": [],
   "source": [
    "# Remove the sample_id column\n",
    "df = df.drop(columns=['sample_id'])\n",
    "\n",
    "# Split the dataset into features/variables (X) and labels/outcome (y)\n",
    "# Change values of 'class' from [2,4] to [0,1]\n",
    "X = df.drop(columns=['class'])\n",
    "y = df['class'].apply(lambda x: 1 if x == 4 else 0)"
   ]
  },
  {
   "cell_type": "code",
   "execution_count": 37,
   "id": "382aa2b4",
   "metadata": {},
   "outputs": [],
   "source": [
    "# Scale the features - Min and Max scaling (sensitive to outliers)\n",
    "scaler = MinMaxScaler()\n",
    "X_scaled = scaler.fit_transform(X)"
   ]
  },
  {
   "cell_type": "markdown",
   "id": "a4c97011",
   "metadata": {},
   "source": [
    "# Logistic Regression"
   ]
  },
  {
   "cell_type": "code",
   "execution_count": 48,
   "id": "d83500ea",
   "metadata": {},
   "outputs": [],
   "source": [
    "# Cross-Validation for small datasets to prevent biased and overfitting of model\n",
    "loo = LeaveOneOut()\n",
    "\n",
    "# LOO method use multiple observations of evaluation, hence need to initialize a list to store 'class' prediction and probability from all observations\n",
    "predictions = []\n",
    "probabilities = []\n",
    "\n",
    "# Loop through the cross-validation splits/observations\n",
    "for train_index, test_index in loo.split(X_scaled):\n",
    "    # While splitting data into training and test sets\n",
    "    X_train, X_test = X_scaled[train_index], X_scaled[test_index]\n",
    "    y_train, y_test = y[train_index], y[test_index]\n",
    "\n",
    "    # Train classifier\n",
    "    model = LogisticRegression()\n",
    "    model.fit(X_train,y_train)\n",
    "    \n",
    "    # Get prediction\n",
    "    predicted_y = model.predict(X_test)\n",
    "    \n",
    "    # Get probability\n",
    "    probability_y = model.predict_proba(X_test)[:,1]\n",
    "\n",
    "    # Append each predicted label and probability score into list\n",
    "    predictions.append(predicted_y[0])\n",
    "    probabilities.append(probability_y[0])\n",
    "\n",
    "# Convert the lists to a Numpy Array\n",
    "predictions = np.array(predictions)\n",
    "probabilities = np.array(probabilities)"
   ]
  },
  {
   "cell_type": "code",
   "execution_count": 49,
   "id": "cd62ba1a",
   "metadata": {},
   "outputs": [
    {
     "name": "stdout",
     "output_type": "stream",
     "text": [
      "The leave-one-out accuracy for the data set is: 0.9642\n",
      "              precision    recall  f1-score   support\n",
      "\n",
      "           0       0.97      0.98      0.97       458\n",
      "           1       0.95      0.94      0.95       241\n",
      "\n",
      "    accuracy                           0.96       699\n",
      "   macro avg       0.96      0.96      0.96       699\n",
      "weighted avg       0.96      0.96      0.96       699\n",
      "\n"
     ]
    }
   ],
   "source": [
    "# report classification results\n",
    "agreement=(predictions==y).sum()\n",
    "accuracy=agreement/y.shape[0]\n",
    "print(\"The leave-one-out accuracy for the data set is: {0:.4f}\".format(accuracy))\n",
    "print(classification_report(y,predictions))"
   ]
  },
  {
   "cell_type": "code",
   "execution_count": 50,
   "id": "d575857a",
   "metadata": {},
   "outputs": [
    {
     "data": {
      "text/plain": [
       "<AxesSubplot: >"
      ]
     },
     "execution_count": 50,
     "metadata": {},
     "output_type": "execute_result"
    },
    {
     "data": {
      "image/png": "[encoded data removed]",
      "text/plain": [
       "<Figure size 640x480 with 2 Axes>"
      ]
     },
     "metadata": {},
     "output_type": "display_data"
    }
   ],
   "source": [
    "# Calculate confusion matrix\n",
    "conf_mtx = confusion_matrix(y,predictions)\n",
    "# Plot confusion matrix using Seaborn Heatmap\n",
    "sns.heatmap(conf_mtx,annot=True,fmt='d',cmap='viridis')"
   ]
  },
  {
   "cell_type": "markdown",
   "id": "38e2c955",
   "metadata": {},
   "source": [
    "# SVM"
   ]
  },
  {
   "cell_type": "code",
   "execution_count": 54,
   "id": "40ea7b1d",
   "metadata": {},
   "outputs": [],
   "source": [
    "# Cross-Validation for small datasets to prevent biased and overfitting of model\n",
    "loo = LeaveOneOut()\n",
    "\n",
    "# LOO method use multiple observations of evaluation, hence need to initialize a list to store 'class' prediction and probability from all observations\n",
    "predictions = []\n",
    "probabilities = []\n",
    "\n",
    "# Loop through the cross-validation splits/observations\n",
    "for train_index, test_index in loo.split(X_scaled):\n",
    "    # While splitting data into training and test sets\n",
    "    X_train, X_test = X_scaled[train_index], X_scaled[test_index]\n",
    "    y_train, y_test = y[train_index], y[test_index]\n",
    "\n",
    "    # Train classifier\n",
    "    clf = svm.SVC(C=1.0, cache_size=200, class_weight=None, coef0=0.0,\n",
    "        decision_function_shape='ovr', degree=3, gamma=10, kernel='rbf',\n",
    "        max_iter=-1, probability=True, random_state=None, shrinking=False,\n",
    "        tol=0.001, verbose=False)\n",
    "    clf.fit(X_train, y_train)\n",
    "\n",
    "    # Get prediction\n",
    "    predicted_y = clf.predict(X_test)\n",
    "    \n",
    "    # Get probability\n",
    "    probability_y = clf.predict_proba(X_test)[:,1]\n",
    "\n",
    "    # Append each predicted label and probability score into list\n",
    "    predictions.append(predicted_y[0])\n",
    "    probabilities.append(probability_y[0])\n",
    "\n",
    "# Convert the lists to a Numpy Array\n",
    "predictions = np.array(predictions)\n",
    "probabilities = np.array(probabilities)"
   ]
  },
  {
   "cell_type": "code",
   "execution_count": 55,
   "id": "53169928",
   "metadata": {},
   "outputs": [
    {
     "name": "stdout",
     "output_type": "stream",
     "text": [
      "The leave-one-out accuracy for the data set is: 0.9571\n",
      "              precision    recall  f1-score   support\n",
      "\n",
      "           0       0.99      0.94      0.97       458\n",
      "           1       0.90      0.99      0.94       241\n",
      "\n",
      "    accuracy                           0.96       699\n",
      "   macro avg       0.95      0.96      0.95       699\n",
      "weighted avg       0.96      0.96      0.96       699\n",
      "\n"
     ]
    }
   ],
   "source": [
    "# report classification results\n",
    "agreement=(predictions==y).sum()\n",
    "accuracy=agreement/y.shape[0]\n",
    "print(\"The leave-one-out accuracy for the data set is: {0:.4f}\".format(accuracy))\n",
    "print(classification_report(y,predictions))"
   ]
  },
  {
   "cell_type": "code",
   "execution_count": 56,
   "id": "adcb7ace",
   "metadata": {},
   "outputs": [
    {
     "data": {
      "text/plain": [
       "<AxesSubplot: >"
      ]
     },
     "execution_count": 56,
     "metadata": {},
     "output_type": "execute_result"
    },
    {
     "data": {
      "image/png": "[encoded data removed]",
      "text/plain": [
       "<Figure size 640x480 with 2 Axes>"
      ]
     },
     "metadata": {},
     "output_type": "display_data"
    }
   ],
   "source": [
    "# Calculate confusion matrix\n",
    "conf_mtx = confusion_matrix(y,predictions)\n",
    "# Plot confusion matrix using Seaborn Heatmap\n",
    "sns.heatmap(conf_mtx,annot=True,fmt='d',cmap='viridis')"
   ]
  },
  {
   "cell_type": "markdown",
   "id": "2aa06b88",
   "metadata": {},
   "source": [
    "# Gaussian Naive Bayes"
   ]
  },
  {
   "cell_type": "code",
   "execution_count": 59,
   "id": "6cf6b640",
   "metadata": {},
   "outputs": [],
   "source": [
    "# Cross-Validation for small datasets to prevent biased and overfitting of model\n",
    "loo = LeaveOneOut()\n",
    "\n",
    "# LOO method use multiple observations of evaluation, hence need to initialize a list to store 'class' prediction and probability from all observations\n",
    "predictions = []\n",
    "probabilities = []\n",
    "\n",
    "# Loop through the cross-validation splits/observations\n",
    "for train_index, test_index in loo.split(X_scaled):\n",
    "    # While splitting data into training and test sets\n",
    "    X_train, X_test = X_scaled[train_index], X_scaled[test_index]\n",
    "    y_train, y_test = y[train_index], y[test_index]\n",
    "\n",
    "    # Create Gaussian Classifier \n",
    "    model = GaussianNB()\n",
    "    \n",
    "    # Train the model using the training sets\n",
    "    model.fit(X_train,y_train)\n",
    "        \n",
    "   # Get prediction\n",
    "    predicted_y = model.predict(X_test)\n",
    "    \n",
    "    # Get probability\n",
    "    probability_y = model.predict_proba(X_test)[:,1]\n",
    "    \n",
    "    # Append each predicted label and probability score into list\n",
    "    predictions.append(predicted_y[0])\n",
    "    probabilities.append(probability_y[0])\n",
    "\n",
    "# Convert the lists to a Numpy Array\n",
    "predictions = np.array(predictions)\n",
    "probabilities = np.array(probabilities)"
   ]
  },
  {
   "cell_type": "code",
   "execution_count": 60,
   "id": "772392e3",
   "metadata": {},
   "outputs": [
    {
     "name": "stdout",
     "output_type": "stream",
     "text": [
      "The leave-one-out accuracy for the data set is: 0.9585\n",
      "              precision    recall  f1-score   support\n",
      "\n",
      "           0       0.98      0.95      0.97       458\n",
      "           1       0.91      0.97      0.94       241\n",
      "\n",
      "    accuracy                           0.96       699\n",
      "   macro avg       0.95      0.96      0.95       699\n",
      "weighted avg       0.96      0.96      0.96       699\n",
      "\n"
     ]
    }
   ],
   "source": [
    "# report classification results\n",
    "agreement=(predictions==y).sum()\n",
    "accuracy=agreement/y.shape[0]\n",
    "print(\"The leave-one-out accuracy for the data set is: {0:.4f}\".format(accuracy))\n",
    "print(classification_report(y,predictions))"
   ]
  },
  {
   "cell_type": "code",
   "execution_count": 61,
   "id": "7ca7ba13",
   "metadata": {},
   "outputs": [
    {
     "data": {
      "text/plain": [
       "<AxesSubplot: >"
      ]
     },
     "execution_count": 61,
     "metadata": {},
     "output_type": "execute_result"
    },
    {
     "data": {
      "image/png": "[encoded data removed]",
      "text/plain": [
       "<Figure size 640x480 with 2 Axes>"
      ]
     },
     "metadata": {},
     "output_type": "display_data"
    }
   ],
   "source": [
    "# Calculate confusion matrix\n",
    "conf_mtx = confusion_matrix(y,predictions)\n",
    "# Plot confusion matrix using Seaborn Heatmap\n",
    "sns.heatmap(conf_mtx,annot=True,fmt='d',cmap='viridis')"
   ]
  },
  {
   "cell_type": "markdown",
   "id": "27b428b3",
   "metadata": {},
   "source": [
    "# KNN Classifier "
   ]
  },
  {
   "cell_type": "code",
   "execution_count": 62,
   "id": "bdb7410d",
   "metadata": {},
   "outputs": [],
   "source": [
    "# Cross-Validation for small datasets to prevent biased and overfitting of model\n",
    "loo = LeaveOneOut()\n",
    "\n",
    "# LOO method use multiple observations of evaluation, hence need to initialize a list to store 'class' prediction and probability from all observations\n",
    "predictions = []\n",
    "probabilities = []\n",
    "\n",
    "k=3\n",
    "\n",
    "# Loop through the cross-validation splits/observations\n",
    "for train_index, test_index in loo.split(X_scaled):\n",
    "    # While splitting data into training and test sets\n",
    "    X_train, X_test = X_scaled[train_index], X_scaled[test_index]\n",
    "    y_train, y_test = y[train_index], y[test_index]\n",
    "\n",
    "     \n",
    "    # Create KNN Classifier \n",
    "    knn = KNeighborsClassifier(n_neighbors=k)\n",
    "    \n",
    "    # Train the model using the training sets\n",
    "    knn.fit(X_train,y_train)\n",
    "   \n",
    "    # Get prediction\n",
    "    predicted_y = knn.predict(X_test)\n",
    "    \n",
    "    # Get probability\n",
    "    probability_y = knn.predict_proba(X_test)[:,1]\n",
    "    \n",
    "    # Append each predicted label and probability score into list\n",
    "    predictions.append(predicted_y[0])\n",
    "    probabilities.append(probability_y[0])\n",
    "\n",
    "# Convert the lists to a Numpy Array\n",
    "predictions = np.array(predictions)\n",
    "probabilities = np.array(probabilities)"
   ]
  },
  {
   "cell_type": "code",
   "execution_count": 63,
   "id": "31d36dc3",
   "metadata": {},
   "outputs": [
    {
     "name": "stdout",
     "output_type": "stream",
     "text": [
      "k=3,The leave-one-out accuracy is: 0.9642\n",
      "              precision    recall  f1-score   support\n",
      "\n",
      "           0       0.97      0.97      0.97       458\n",
      "           1       0.95      0.95      0.95       241\n",
      "\n",
      "    accuracy                           0.96       699\n",
      "   macro avg       0.96      0.96      0.96       699\n",
      "weighted avg       0.96      0.96      0.96       699\n",
      "\n"
     ]
    }
   ],
   "source": [
    "# report classification results\n",
    "agreement=(predictions==y).sum()\n",
    "accuracy=agreement/y.shape[0]\n",
    "print(\"k={0},The leave-one-out accuracy is: {1:.4f}\".format(k,accuracy))\n",
    "print(classification_report(y,predictions))\n"
   ]
  },
  {
   "cell_type": "code",
   "execution_count": 64,
   "id": "e0ba92a4",
   "metadata": {},
   "outputs": [
    {
     "data": {
      "text/plain": [
       "<AxesSubplot: >"
      ]
     },
     "execution_count": 64,
     "metadata": {},
     "output_type": "execute_result"
    },
    {
     "data": {
      "image/png": "[encoded data removed]",
      "text/plain": [
       "<Figure size 640x480 with 2 Axes>"
      ]
     },
     "metadata": {},
     "output_type": "display_data"
    }
   ],
   "source": [
    "# Calculate confusion matrix\n",
    "conf_mtx = confusion_matrix(y,predictions)\n",
    "# Plot confusion matrix using Seaborn Heatmap\n",
    "sns.heatmap(conf_mtx,annot=True,fmt='d',cmap='viridis')"
   ]
  },
  {
   "cell_type": "markdown",
   "id": "48176f66",
   "metadata": {},
   "source": [
    "# Random Forest Classifier"
   ]
  },
  {
   "cell_type": "code",
   "execution_count": 93,
   "id": "069ad5d8",
   "metadata": {},
   "outputs": [],
   "source": [
    "from sklearn.ensemble import RandomForestClassifier\n",
    "\n",
    "# Cross-Validation for small datasets to prevent biased and overfitting of model\n",
    "loo = LeaveOneOut()\n",
    "\n",
    "# LOO method use multiple observations of evaluation, hence need to initialize a list to store 'class' prediction and probability from all observations\n",
    "predictions = []\n",
    "probabilities = []\n",
    "\n",
    "# Loop through the cross-validation splits/observations\n",
    "for train_index, test_index in loo.split(X_scaled):\n",
    "    # While splitting data into training and test sets\n",
    "    X_train, X_test = X_scaled[train_index], X_scaled[test_index]\n",
    "    y_train, y_test = y[train_index], y[test_index]\n",
    "\n",
    "    # Create Random Forest Classifier \n",
    "    rfc=RandomForestClassifier()\n",
    "    \n",
    "    # Train the model using the training sets\n",
    "    rfc.fit(X_train,y_train)\n",
    "   \n",
    "    # Get prediction\n",
    "    predicted_y = rfc.predict(X_test)\n",
    "    \n",
    "    # Get probability\n",
    "    probability_y = rfc.predict_proba(X_test)[:,1]\n",
    "    \n",
    "    # Append each predicted label and probability score into list\n",
    "    predictions.append(predicted_y[0])\n",
    "    probabilities.append(probability_y[0])\n",
    "\n",
    "# Convert the lists to a Numpy Array\n",
    "predictions = np.array(predictions)\n",
    "probabilities = np.array(probabilities)"
   ]
  },
  {
   "cell_type": "code",
   "execution_count": 94,
   "id": "0f1361aa",
   "metadata": {},
   "outputs": [
    {
     "name": "stdout",
     "output_type": "stream",
     "text": [
      "k=3,The leave-one-out accuracy is: 0.9714\n",
      "              precision    recall  f1-score   support\n",
      "\n",
      "           0       0.98      0.97      0.98       458\n",
      "           1       0.95      0.97      0.96       241\n",
      "\n",
      "    accuracy                           0.97       699\n",
      "   macro avg       0.97      0.97      0.97       699\n",
      "weighted avg       0.97      0.97      0.97       699\n",
      "\n"
     ]
    }
   ],
   "source": [
    "# report classification results\n",
    "agreement=(predictions==y).sum()\n",
    "accuracy=agreement/y.shape[0]\n",
    "print(\"k={0},The leave-one-out accuracy is: {1:.4f}\".format(k,accuracy))\n",
    "print(classification_report(y,predictions))"
   ]
  },
  {
   "cell_type": "code",
   "execution_count": 76,
   "id": "ced30f71",
   "metadata": {},
   "outputs": [
    {
     "data": {
      "text/plain": [
       "<AxesSubplot: >"
      ]
     },
     "execution_count": 76,
     "metadata": {},
     "output_type": "execute_result"
    },
    {
     "data": {
      "image/png": "[encoded data removed]",
      "text/plain": [
       "<Figure size 640x480 with 2 Axes>"
      ]
     },
     "metadata": {},
     "output_type": "display_data"
    }
   ],
   "source": [
    "# Calculate confusion matrix\n",
    "conf_mtx = confusion_matrix(y,predictions)\n",
    "# Plot confusion matrix using Seaborn Heatmap\n",
    "sns.heatmap(conf_mtx,annot=True,fmt='d',cmap='viridis')"
   ]
  },
  {
   "cell_type": "markdown",
   "id": "f00deece",
   "metadata": {},
   "source": [
    "# Decision Tree Classifier"
   ]
  },
  {
   "cell_type": "code",
   "execution_count": 88,
   "id": "3fdc7042",
   "metadata": {},
   "outputs": [],
   "source": [
    "from sklearn.ensemble import RandomForestClassifier\n",
    "\n",
    "# Cross-Validation for small datasets to prevent biased and overfitting of model\n",
    "loo = LeaveOneOut()\n",
    "\n",
    "# LOO method use multiple observations of evaluation, hence need to initialize a list to store 'class' prediction and probability from all observations\n",
    "predictions = []\n",
    "probabilities = []\n",
    "\n",
    "# Loop through the cross-validation splits/observations\n",
    "for train_index, test_index in loo.split(X_scaled):\n",
    "    # While splitting data into training and test sets\n",
    "    X_train, X_test = X_scaled[train_index], X_scaled[test_index]\n",
    "    y_train, y_test = y[train_index], y[test_index]\n",
    "\n",
    "    # Create Decision Tree Classifier \n",
    "    dt=DecisionTreeClassifier()\n",
    "    \n",
    "    # Train the model using the training sets\n",
    "    dt.fit(X_train,y_train)\n",
    "   \n",
    "    # Get prediction\n",
    "    predicted_y = dt.predict(X_test)\n",
    "    \n",
    "    # Get probability\n",
    "    probability_y = dt.predict_proba(X_test)[:,1]\n",
    "    \n",
    "    # Append each predicted label and probability score into list\n",
    "    predictions.append(predicted_y[0])\n",
    "    probabilities.append(probability_y[0])\n",
    "\n",
    "# Convert the lists to a Numpy Array\n",
    "predictions = np.array(predictions)\n",
    "probabilities = np.array(probabilities)\n"
   ]
  },
  {
   "cell_type": "code",
   "execution_count": 91,
   "id": "35a857b8",
   "metadata": {},
   "outputs": [
    {
     "name": "stdout",
     "output_type": "stream",
     "text": [
      "k=3,The leave-one-out accuracy is: 0.9485\n",
      "              precision    recall  f1-score   support\n",
      "\n",
      "           0       0.96      0.96      0.96       458\n",
      "           1       0.93      0.93      0.93       241\n",
      "\n",
      "    accuracy                           0.95       699\n",
      "   macro avg       0.94      0.94      0.94       699\n",
      "weighted avg       0.95      0.95      0.95       699\n",
      "\n"
     ]
    }
   ],
   "source": [
    "# report classification results\n",
    "agreement=(predictions==y).sum()\n",
    "accuracy=agreement/y.shape[0]\n",
    "print(\"k={0},The leave-one-out accuracy is: {1:.4f}\".format(k,accuracy))\n",
    "print(classification_report(y,predictions))"
   ]
  },
  {
   "cell_type": "code",
   "execution_count": 92,
   "id": "cfc4714e",
   "metadata": {},
   "outputs": [
    {
     "data": {
      "text/plain": [
       "<AxesSubplot: >"
      ]
     },
     "execution_count": 92,
     "metadata": {},
     "output_type": "execute_result"
    },
    {
     "data": {
      "image/png": "[encoded data removed]",
      "text/plain": [
       "<Figure size 640x480 with 2 Axes>"
      ]
     },
     "metadata": {},
     "output_type": "display_data"
    }
   ],
   "source": [
    "# Calculate confusion matrix\n",
    "conf_mtx = confusion_matrix(y,predictions)\n",
    "# Plot confusion matrix using Seaborn Heatmap\n",
    "sns.heatmap(conf_mtx,annot=True,fmt='d',cmap='viridis')"
   ]
  },
  {
   "cell_type": "code",
   "execution_count": null,
   "id": "7fd3cedc",
   "metadata": {},
   "outputs": [],
   "source": []
  }
 ],
 "metadata": {
  "kernelspec": {
   "display_name": "Python 3 (ipykernel)",
   "language": "python",
   "name": "python3"
  },
  "language_info": {
   "codemirror_mode": {
    "name": "ipython",
    "version": 3
   },
   "file_extension": ".py",
   "mimetype": "text/x-python",
   "name": "python",
   "nbconvert_exporter": "python",
   "pygments_lexer": "ipython3",
   "version": "3.10.8"
  }
 },
 "nbformat": 4,
 "nbformat_minor": 5
}
