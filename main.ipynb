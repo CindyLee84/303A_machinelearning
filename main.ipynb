{
 "cells": [
  {
   "cell_type": "code",
   "execution_count": 1,
   "id": "c48216a1",
   "metadata": {},
   "outputs": [],
   "source": [
    "#import dependencies\n",
    "import pandas as pd\n",
    "import preprocess"
   ]
  },
  {
   "cell_type": "markdown",
   "id": "5c495eeb",
   "metadata": {},
   "source": [
    "# Preprocessing"
   ]
  },
  {
   "cell_type": "code",
   "execution_count": 2,
   "id": "0f8a961f",
   "metadata": {},
   "outputs": [
    {
     "name": "stdout",
     "output_type": "stream",
     "text": [
      "Columns renaming successful\n",
      "All '?' values replaced with 'NaN'\n",
      "\n",
      "Calculate missing values from dataframe\n",
      "sample_id            0\n",
      "cl_thcknss           0\n",
      "size_cell_un         0\n",
      "shape_cell_un        0\n",
      "marg_adhesion        0\n",
      "size_cell_single     0\n",
      "bare_nucl           16\n",
      "bl_chrmatn           0\n",
      "nrml_nucleo          0\n",
      "mitoses              0\n",
      "class                0\n",
      "dtype: int64\n",
      "\n",
      "Null values imputated using Multivariate Imputation by Chained Equation (MICE) method\n",
      "\n",
      "Calculate missing values from imputated dataframe\n",
      "sample_id           0\n",
      "cl_thcknss          0\n",
      "size_cell_un        0\n",
      "shape_cell_un       0\n",
      "marg_adhesion       0\n",
      "size_cell_single    0\n",
      "bare_nucl           0\n",
      "bl_chrmatn          0\n",
      "nrml_nucleo         0\n",
      "mitoses             0\n",
      "class               0\n",
      "dtype: int64\n",
      "\n"
     ]
    }
   ],
   "source": [
    "## Read the wisconsin dataset\n",
    "breast_ca = pd.read_csv('Dataset/breast-cancer-wisconsin.data',index_col=None,header=None)\n",
    "\n",
    "## Run clean_impute function on dataset and save dataset (impute - MICE method)\n",
    "df_impute = preprocess.clean_impute(breast_ca)\n",
    "df_impute.to_csv('Dataset/processed/breast-cancer-wisconsin-imputed.csv',index=False)\n",
    "\n",
    "## Read imputed wisconsin dataset\n",
    "df = pd.read_csv(\"Dataset/processed/breast-cancer-wisconsin-imputed.csv\")"
   ]
  },
  {
   "cell_type": "code",
   "execution_count": 3,
   "id": "7d99464b",
   "metadata": {},
   "outputs": [],
   "source": [
    "# Remove the sample_id column\n",
    "df = df.drop(columns=['sample_id'])\n",
    "\n",
    "# Split the dataset into features/variables (X) and labels/outcome (y)\n",
    "X = df.drop(columns=['class'])\n",
    "y = df['class'].apply(lambda x: 1 if x == 4 else 0)"
   ]
  },
  {
   "cell_type": "markdown",
   "id": "9b51283e",
   "metadata": {},
   "source": [
    "# Logistic Regression"
   ]
  },
  {
   "cell_type": "code",
   "execution_count": 4,
   "id": "22253043",
   "metadata": {},
   "outputs": [],
   "source": [
    "#Dependencies\n",
    "import pandas as pd\n",
    "import numpy as np\n",
    "from sklearn.preprocessing import MinMaxScaler\n",
    "from sklearn.model_selection import LeaveOneOut\n",
    "from sklearn.linear_model import LogisticRegression\n",
    "from sklearn.metrics import confusion_matrix, classification_report,roc_curve,roc_auc_score\n",
    "import seaborn as sns\n",
    "import matplotlib.pyplot as plt\n"
   ]
  },
  {
   "cell_type": "code",
   "execution_count": 5,
   "id": "80be7661",
   "metadata": {},
   "outputs": [],
   "source": [
    "# Scale the features - Min and Max scaling (sensitive to outliers)\n",
    "scaler = MinMaxScaler()\n",
    "X_scaled = scaler.fit_transform(X)"
   ]
  },
  {
   "cell_type": "code",
   "execution_count": 6,
   "id": "bc87fb58",
   "metadata": {},
   "outputs": [],
   "source": [
    "# Cross-Validation for small datasets to prevent biased and overfitting of model\n",
    "loo = LeaveOneOut()\n",
    "\n",
    "# Run supervised learning - Logistic Regression algorithm\n",
    "model = LogisticRegression()"
   ]
  },
  {
   "cell_type": "code",
   "execution_count": 7,
   "id": "85f78fc9",
   "metadata": {},
   "outputs": [],
   "source": [
    "# LOO method use multiple observations of evaluation, hence need to initialize a list to store 'class' prediction and probability from all observations\n",
    "predictions = []\n",
    "probabilities = []"
   ]
  },
  {
   "cell_type": "code",
   "execution_count": 8,
   "id": "6293fc69",
   "metadata": {},
   "outputs": [],
   "source": [
    "# Loop through the cross-validation splits/observations\n",
    "for train_index, test_index in loo.split(X_scaled):\n",
    "    # While splitting data into training and test sets\n",
    "    X_train, X_test = X_scaled[train_index], X_scaled[test_index]\n",
    "    y_train, y_test = y[train_index], y[test_index]\n",
    "\n",
    "    # Fit the model on the training data and predict the labels + probability for the test set\n",
    "    model.fit(X_train,y_train)\n",
    "    predicted_y = model.predict(X_test)\n",
    "    probability_y = model.predict_proba(X_test)[:,1]\n",
    "\n",
    "    # Append each predicted label and probability score into list\n",
    "    predictions.append(predicted_y[0])\n",
    "    probabilities.append(probability_y[0])\n",
    "\n",
    "# Convert the lists to a Numpy Array\n",
    "predictions = np.array(predictions)\n",
    "probabilities = np.array(probabilities)"
   ]
  },
  {
   "cell_type": "code",
   "execution_count": 9,
   "id": "fbf74773",
   "metadata": {},
   "outputs": [],
   "source": [
    "# Calculate false +ve rate, true +ve rate and threshold values\n",
    "fpr, tpr, thresholds = roc_curve(y,probabilities)\n",
    "\n",
    "# Calculate area under the curve\n",
    "roc_auc = roc_auc_score(y,probabilities)"
   ]
  },
  {
   "cell_type": "code",
   "execution_count": 10,
   "id": "aa368e4b",
   "metadata": {},
   "outputs": [
    {
     "data": {
      "image/png": "[encoded data removed]",
      "text/plain": [
       "<Figure size 640x480 with 1 Axes>"
      ]
     },
     "metadata": {},
     "output_type": "display_data"
    }
   ],
   "source": [
    "# Plot the ROC curve\n",
    "plt.plot(fpr, tpr, 'b', label='AUC = %0.2f' % roc_auc)\n",
    "plt.legend(loc='lower right')\n",
    "plt.plot([0, 1], [0, 1], 'r--')\n",
    "plt.xlim([0, 1])\n",
    "plt.ylim([0, 1])\n",
    "plt.ylabel('True Positive Rate')\n",
    "plt.xlabel('False Positive Rate')\n",
    "plt.show()"
   ]
  },
  {
   "cell_type": "code",
   "execution_count": 11,
   "id": "68c31676",
   "metadata": {},
   "outputs": [],
   "source": [
    "# Calculate confusion matrix\n",
    "conf_mtx = confusion_matrix(y,predictions)"
   ]
  },
  {
   "cell_type": "code",
   "execution_count": 12,
   "id": "c3ccd35b",
   "metadata": {},
   "outputs": [
    {
     "data": {
      "text/plain": [
       "<AxesSubplot: >"
      ]
     },
     "execution_count": 12,
     "metadata": {},
     "output_type": "execute_result"
    },
    {
     "data": {
      "image/png": "[encoded data removed]",
      "text/plain": [
       "<Figure size 640x480 with 2 Axes>"
      ]
     },
     "metadata": {},
     "output_type": "display_data"
    }
   ],
   "source": [
    "# Plot confusion matrix using Seaborn Heatmap\n",
    "sns.heatmap(conf_mtx,annot=True,fmt='d',cmap='viridis')"
   ]
  },
  {
   "cell_type": "code",
   "execution_count": 13,
   "id": "efadc413",
   "metadata": {},
   "outputs": [
    {
     "name": "stdout",
     "output_type": "stream",
     "text": [
      "              precision    recall  f1-score   support\n",
      "\n",
      "           0       0.97      0.98      0.97       458\n",
      "           1       0.95      0.94      0.95       241\n",
      "\n",
      "    accuracy                           0.96       699\n",
      "   macro avg       0.96      0.96      0.96       699\n",
      "weighted avg       0.96      0.96      0.96       699\n",
      "\n"
     ]
    }
   ],
   "source": [
    "# Comprehensive Classification Report\n",
    "print(classification_report(y, predictions))"
   ]
  },
  {
   "cell_type": "code",
   "execution_count": 14,
   "id": "0623da5b",
   "metadata": {},
   "outputs": [],
   "source": [
    "# Combine the true labels and predicted labels into a dataframe\n",
    "df2 = pd.DataFrame({'Actual': y, 'Predicted': predictions})"
   ]
  },
  {
   "cell_type": "code",
   "execution_count": 15,
   "id": "52f963ce",
   "metadata": {},
   "outputs": [
    {
     "data": {
      "text/html": [
       "<div>\n",
       "<style scoped>\n",
       "    .dataframe tbody tr th:only-of-type {\n",
       "        vertical-align: middle;\n",
       "    }\n",
       "\n",
       "    .dataframe tbody tr th {\n",
       "        vertical-align: top;\n",
       "    }\n",
       "\n",
       "    .dataframe thead th {\n",
       "        text-align: right;\n",
       "    }\n",
       "</style>\n",
       "<table border=\"1\" class=\"dataframe\">\n",
       "  <thead>\n",
       "    <tr style=\"text-align: right;\">\n",
       "      <th></th>\n",
       "      <th>Actual</th>\n",
       "      <th>Predicted</th>\n",
       "    </tr>\n",
       "  </thead>\n",
       "  <tbody>\n",
       "    <tr>\n",
       "      <th>0</th>\n",
       "      <td>0</td>\n",
       "      <td>0</td>\n",
       "    </tr>\n",
       "    <tr>\n",
       "      <th>1</th>\n",
       "      <td>0</td>\n",
       "      <td>1</td>\n",
       "    </tr>\n",
       "    <tr>\n",
       "      <th>2</th>\n",
       "      <td>0</td>\n",
       "      <td>0</td>\n",
       "    </tr>\n",
       "    <tr>\n",
       "      <th>3</th>\n",
       "      <td>0</td>\n",
       "      <td>1</td>\n",
       "    </tr>\n",
       "    <tr>\n",
       "      <th>4</th>\n",
       "      <td>0</td>\n",
       "      <td>0</td>\n",
       "    </tr>\n",
       "    <tr>\n",
       "      <th>...</th>\n",
       "      <td>...</td>\n",
       "      <td>...</td>\n",
       "    </tr>\n",
       "    <tr>\n",
       "      <th>694</th>\n",
       "      <td>0</td>\n",
       "      <td>0</td>\n",
       "    </tr>\n",
       "    <tr>\n",
       "      <th>695</th>\n",
       "      <td>0</td>\n",
       "      <td>0</td>\n",
       "    </tr>\n",
       "    <tr>\n",
       "      <th>696</th>\n",
       "      <td>1</td>\n",
       "      <td>1</td>\n",
       "    </tr>\n",
       "    <tr>\n",
       "      <th>697</th>\n",
       "      <td>1</td>\n",
       "      <td>1</td>\n",
       "    </tr>\n",
       "    <tr>\n",
       "      <th>698</th>\n",
       "      <td>1</td>\n",
       "      <td>1</td>\n",
       "    </tr>\n",
       "  </tbody>\n",
       "</table>\n",
       "<p>699 rows × 2 columns</p>\n",
       "</div>"
      ],
      "text/plain": [
       "     Actual  Predicted\n",
       "0         0          0\n",
       "1         0          1\n",
       "2         0          0\n",
       "3         0          1\n",
       "4         0          0\n",
       "..      ...        ...\n",
       "694       0          0\n",
       "695       0          0\n",
       "696       1          1\n",
       "697       1          1\n",
       "698       1          1\n",
       "\n",
       "[699 rows x 2 columns]"
      ]
     },
     "execution_count": 15,
     "metadata": {},
     "output_type": "execute_result"
    }
   ],
   "source": [
    "df2"
   ]
  }
 ],
 "metadata": {
  "kernelspec": {
   "display_name": "Python 3 (ipykernel)",
   "language": "python",
   "name": "python3"
  },
  "language_info": {
   "codemirror_mode": {
    "name": "ipython",
    "version": 3
   },
   "file_extension": ".py",
   "mimetype": "text/x-python",
   "name": "python",
   "nbconvert_exporter": "python",
   "pygments_lexer": "ipython3",
   "version": "3.10.0"
  }
 },
 "nbformat": 4,
 "nbformat_minor": 5
}
